{
  "nbformat": 4,
  "nbformat_minor": 0,
  "metadata": {
    "colab": {
      "provenance": []
    },
    "kernelspec": {
      "name": "python3",
      "display_name": "Python 3"
    },
    "language_info": {
      "name": "python"
    }
  },
  "cells": [
    {
      "cell_type": "markdown",
      "source": [
        "# **Daily Mood Tracker**\n",
        "\n",
        "  It allows a user to **log daily moods**, attach notes, and view past moods by date or mood type.\n",
        "\n",
        "All data is saved in a **JSON file** .\n"
      ],
      "metadata": {
        "id": "iGn2Ji5KnM3j"
      }
    },
    {
      "cell_type": "markdown",
      "source": [
        "\n",
        "\n",
        "---\n",
        "\n"
      ],
      "metadata": {
        "id": "XyXogScknZFJ"
      }
    },
    {
      "cell_type": "markdown",
      "source": [
        "# **Let's Start**"
      ],
      "metadata": {
        "id": "HsEMz2n1nctw"
      }
    },
    {
      "cell_type": "markdown",
      "source": [
        "**What I did:**\n",
        "\n",
        "I imported **json** and **datetime** to handle data saving and dates.\n",
        "\n",
        " I also set the file name **mood_data.json** to store all my mood entries."
      ],
      "metadata": {
        "id": "nI6VfBiVivH8"
      }
    },
    {
      "cell_type": "code",
      "source": [
        "import json\n",
        "from datetime import datetime\n",
        "\n",
        "DATA_FILE = \"mood_data.json\""
      ],
      "metadata": {
        "id": "Kw8fuUZUhJqo"
      },
      "execution_count": 1,
      "outputs": []
    },
    {
      "cell_type": "markdown",
      "source": [
        "**What I did:**\n",
        "\n",
        "I created **load_data()** to read moods from the file and **save_data()** to write moods back to the file in a neat format."
      ],
      "metadata": {
        "id": "8wYj6O1xi4Jz"
      }
    },
    {
      "cell_type": "code",
      "source": [
        "def load_data():\n",
        "    try:\n",
        "        with open(DATA_FILE, \"r\") as f:\n",
        "            return json.load(f)\n",
        "    except FileNotFoundError:\n",
        "        return []\n",
        "\n",
        "def save_data(data):\n",
        "    with open(DATA_FILE, \"w\") as f:\n",
        "        json.dump(data, f, indent=2)\n"
      ],
      "metadata": {
        "id": "wnGOoKMThNhY"
      },
      "execution_count": 9,
      "outputs": []
    },
    {
      "cell_type": "markdown",
      "source": [
        "**What I did:**\n",
        "\n",
        " Here I added some helper functions:\n",
        "\n",
        "* **get_valid_date()** to get a correct date.\n",
        "\n",
        "* **get_mood_input()** to clean the mood text.\n",
        "\n",
        "* **filter_data_by_date()** and **filter_data_by_mood()** to search moods.\n",
        "\n",
        "* **display_entries()** to show moods in a clean table.\n",
        "\n",
        " This keeps my code short and reusable.\n"
      ],
      "metadata": {
        "id": "kgWJHlohi9jy"
      }
    },
    {
      "cell_type": "code",
      "source": [
        "def get_valid_date(prompt=\"Enter date (YYYY-MM-DD): \", allow_blank=False):\n",
        "\n",
        "    while True:\n",
        "        date = input(prompt)\n",
        "        if allow_blank and not date:\n",
        "            return datetime.today().strftime('%Y-%m-%d')\n",
        "        try:\n",
        "            if date:\n",
        "                datetime.strptime(date, '%Y-%m-%d')\n",
        "                return date\n",
        "            else:\n",
        "                print(\"Date cannot be blank.\")\n",
        "        except ValueError:\n",
        "            print(\" Invalid date format. Please use YYYY-MM-DD.\")\n",
        "\n",
        "def get_mood_input(prompt=\"Enter mood type: \"):\n",
        "    return input(prompt).strip().lower()\n",
        "\n",
        "def filter_data_by_date(data, date):\n",
        "    return [m for m in data if m['date'] == date]\n",
        "\n",
        "def filter_data_by_mood(data, mood):\n",
        "    return [m for m in data if m['mood'].lower() == mood]\n",
        "\n",
        "# it will show output in clear format\n",
        "def display_entries(entries):\n",
        "\n",
        "    print(f\"\\n{'Date':<12} {'Mood':<10} Note\")\n",
        "    print(\"-\" * 40)\n",
        "    for entry in entries:\n",
        "        print(f\"{entry['date']:<12} {entry['mood']:<10} {entry['note']}\")\n",
        "    print()"
      ],
      "metadata": {
        "id": "HM4U8h93hP49"
      },
      "execution_count": 10,
      "outputs": []
    },
    {
      "cell_type": "markdown",
      "source": [
        "**What I did:**\n",
        "\n",
        "I wrote **log_mood()** to ask for a **date,  mood,  and note**, check the date format, and then save the new mood entry to the file."
      ],
      "metadata": {
        "id": "FakfHsrPjHeW"
      }
    },
    {
      "cell_type": "code",
      "source": [
        "def log_mood():\n",
        "    print(\"\\n--- LOG MOOD ---\")\n",
        "    date = get_valid_date(\"Enter date (YYYY-MM-DD): \", allow_blank=True)\n",
        "    mood = get_mood_input(\"What's your mood today?: \")\n",
        "    note = input(\"Add a quick note about your day: \")\n",
        "\n",
        "    data = load_data()\n",
        "    data.append({\n",
        "        \"date\": date,\n",
        "        \"mood\": mood,\n",
        "        \"note\": note.strip()\n",
        "    })\n",
        "    save_data(data)\n",
        "    print(f\"\\n Mood logged successfully!\\nDate: {date}\\nMood: {mood}\\nNote: {note}\\n\")\n"
      ],
      "metadata": {
        "id": "I0rgmt9_hTOs"
      },
      "execution_count": 11,
      "outputs": []
    },
    {
      "cell_type": "markdown",
      "source": [
        "**What I did:**\n",
        "\n",
        "I wrote **view_moods()** so I can search and display saved moods either by date or by mood type using my helper functions."
      ],
      "metadata": {
        "id": "0E5K2g68jRNB"
      }
    },
    {
      "cell_type": "code",
      "source": [
        "def view_moods():\n",
        "\n",
        "    print(\"\\n--- VIEW MOODS ---\")\n",
        "    data = load_data()\n",
        "    if not data:\n",
        "        print(\" No mood data found. Please log some moods first.\\n\")\n",
        "        return\n",
        "\n",
        "    print(\"View moods by:\")\n",
        "    print(\"1. Date\")\n",
        "    print(\"2. Mood Type\")\n",
        "    choice = input(\"Choose 1 or 2: \")\n",
        "\n",
        "    if choice == \"1\":\n",
        "        date = get_valid_date()\n",
        "        result = filter_data_by_date(data, date)\n",
        "    elif choice == \"2\":\n",
        "        mood = get_mood_input()\n",
        "        result = filter_data_by_mood(data, mood)\n",
        "    else:\n",
        "        print(\"Invalid option.\\n\")\n",
        "        return\n",
        "\n",
        "    if result:\n",
        "        display_entries(result)\n",
        "    else:\n",
        "        print(\"No matching moods found.\\n\")\n"
      ],
      "metadata": {
        "id": "huCtplGRhbna"
      },
      "execution_count": 12,
      "outputs": []
    },
    {
      "cell_type": "markdown",
      "source": [
        "**What I did:**\n",
        "\n",
        "I created **main()** to show a menu where I can choose to log a mood, view moods, or exit.\n",
        "\n",
        "It keeps running until I decide to stop."
      ],
      "metadata": {
        "id": "FF_jylzZjUQg"
      }
    },
    {
      "cell_type": "code",
      "source": [
        "def main():\n",
        "    while True:\n",
        "        print(\"       MOOD TRACKER OPTIONS      \")\n",
        "        print(\"______________________________\")\n",
        "        print(\" \")\n",
        "        print(\"1. Log Mood\")\n",
        "        print(\"2. View Moods\")\n",
        "        print(\"3. Exit\")\n",
        "        choice = input(\"Choose an option (1, 2, or 3): \")\n",
        "        if choice == \"1\":\n",
        "            log_mood()\n",
        "        elif choice == \"2\":\n",
        "            view_moods()\n",
        "        elif choice == \"3\":\n",
        "            print(\"\\n Goodbye! Have a great day!\\n\")\n",
        "            break\n",
        "        else:\n",
        "            print(\"Invalid choice. Please try again.\\n\")\n"
      ],
      "metadata": {
        "id": "kJ2IsIWNhczY"
      },
      "execution_count": 13,
      "outputs": []
    },
    {
      "cell_type": "markdown",
      "source": [
        "**What I did:**\n",
        "\n",
        "I called **main()** to start the Mood Tracker and use the menu."
      ],
      "metadata": {
        "id": "c0Ah4rRZjfQi"
      }
    },
    {
      "cell_type": "code",
      "source": [
        "main()"
      ],
      "metadata": {
        "colab": {
          "base_uri": "https://localhost:8080/"
        },
        "id": "CWCJGIe7hgz0",
        "outputId": "f6c39b54-c6f3-4a8d-d65e-f736a8741c4f"
      },
      "execution_count": 14,
      "outputs": [
        {
          "output_type": "stream",
          "name": "stdout",
          "text": [
            "       MOOD TRACKER OPTIONS      \n",
            "______________________________\n",
            " \n",
            "1. Log Mood\n",
            "2. View Moods\n",
            "3. Exit\n",
            "Choose an option (1, 2, or 3): 2\n",
            "\n",
            "--- VIEW MOODS ---\n",
            "View moods by:\n",
            "1. Date\n",
            "2. Mood Type\n",
            "Choose 1 or 2: 1\n",
            "Enter date (YYYY-MM-DD): 2025-06-22\n",
            "\n",
            "Date         Mood       Note\n",
            "----------------------------------------\n",
            "2025-06-22   happy      weather is so good\n",
            "2025-06-22   sad        i dont know\n",
            "2025-06-22   tired      hectic day\n",
            "\n",
            "       MOOD TRACKER OPTIONS      \n",
            "______________________________\n",
            " \n",
            "1. Log Mood\n",
            "2. View Moods\n",
            "3. Exit\n",
            "Choose an option (1, 2, or 3): 3\n",
            "\n",
            " Goodbye! Have a great day!\n",
            "\n"
          ]
        }
      ]
    }
  ]
}